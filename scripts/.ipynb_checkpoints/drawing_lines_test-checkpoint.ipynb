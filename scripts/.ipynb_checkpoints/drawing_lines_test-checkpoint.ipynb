{
 "cells": [
  {
   "cell_type": "code",
   "execution_count": 1,
   "id": "0976040a",
   "metadata": {},
   "outputs": [],
   "source": [
    "import numpy as np\n",
    "import matplotlib.pyplot as plt\n",
    "from shapely.geometry import LineString\n",
    "from scipy import ndimage\n",
    "from scipy.ndimage import *\n",
    "import cv2\n",
    "import skimage.exposure"
   ]
  },
  {
   "cell_type": "code",
   "execution_count": 5,
   "id": "4a0954c7",
   "metadata": {
    "scrolled": false
   },
   "outputs": [
    {
     "ename": "NameError",
     "evalue": "name 'kernel_1' is not defined",
     "output_type": "error",
     "traceback": [
      "\u001b[0;31m---------------------------------------------------------------------------\u001b[0m",
      "\u001b[0;31mNameError\u001b[0m                                 Traceback (most recent call last)",
      "Input \u001b[0;32mIn [5]\u001b[0m, in \u001b[0;36m<module>\u001b[0;34m\u001b[0m\n\u001b[1;32m      3\u001b[0m PATH_1 \u001b[38;5;241m=\u001b[39m cv2\u001b[38;5;241m.\u001b[39mimread(\u001b[38;5;124m\"\u001b[39m\u001b[38;5;124m/home/marilin/Documents/ESP/diameterJ_test/sem_test/Segmented Images/EcN_II_PEO_131120_GML_15k_01_S1_reverse.tif\u001b[39m\u001b[38;5;124m\"\u001b[39m,\u001b[38;5;241m0\u001b[39m)[:\u001b[38;5;241m650\u001b[39m, :]\n\u001b[1;32m      5\u001b[0m \u001b[38;5;66;03m# selecting a pixel that is bordering a black pixel\u001b[39;00m\n\u001b[1;32m      6\u001b[0m \u001b[38;5;66;03m# make this px as the center of a 13x13 kernel - sanity check and for choosing the direction of the regression line\u001b[39;00m\n\u001b[1;32m      7\u001b[0m \n\u001b[0;32m   (...)\u001b[0m\n\u001b[1;32m     29\u001b[0m \u001b[38;5;66;03m#         if np.count_nonzero(kernel_1) > ((n**2) // 2):\u001b[39;00m\n\u001b[1;32m     30\u001b[0m \u001b[38;5;66;03m#             break\u001b[39;00m\n\u001b[0;32m---> 32\u001b[0m \u001b[38;5;28mprint\u001b[39m(\u001b[43mkernel_1\u001b[49m)\n\u001b[1;32m     33\u001b[0m \u001b[38;5;66;03m# print(x,y)\u001b[39;00m\n\u001b[1;32m     34\u001b[0m \n\u001b[1;32m     35\u001b[0m \u001b[38;5;66;03m# on the img reversed \u001b[39;00m\n\u001b[1;32m     36\u001b[0m x,y \u001b[38;5;241m=\u001b[39m \u001b[38;5;241m332\u001b[39m, \u001b[38;5;241m695\u001b[39m\n",
      "\u001b[0;31mNameError\u001b[0m: name 'kernel_1' is not defined"
     ]
    }
   ],
   "source": [
    "orig = cv2.imread(\"/home/marilin/Documents/ESP/data/SEM/EcN_II_PEO_131120_GML_15k_03.tif\",0)[:650, :]\n",
    "\n",
    "PATH_1 = cv2.imread(\"/home/marilin/Documents/ESP/diameterJ_test/sem_test/Segmented Images/EcN_II_PEO_131120_GML_15k_01_S1_reverse.tif\",0)[:650, :]\n",
    "\n",
    "# selecting a pixel that is bordering a black pixel\n",
    "# make this px as the center of a 13x13 kernel - sanity check and for choosing the direction of the regression line\n",
    "\n",
    "\n",
    "# choosing 1 white px - edges should be fixed \n",
    "# while 1:\n",
    "#     rnd_idx = np.random.randint(1, (len(np.where(PATH_1 > 0)[0]))-1, 1)\n",
    "#     x, y = np.where(PATH_1 > 0)[0][rnd_idx][0], np.where(PATH_1 > 0)[1][rnd_idx][0]\n",
    "#     # neighboring px-s from white should be black (U+L, U+R / B+L, B+R) but majority of kernel should be white\n",
    "\n",
    "#     # relative to px pos\n",
    " \n",
    "#     U = PATH_1[x-1][y]\n",
    "#     R = PATH_1[x][y+1]\n",
    "#     L = PATH_1[x][y-1]\n",
    "#     B = PATH_1[x+1][y]\n",
    "\n",
    "#     # safe check \n",
    "#     if (U == 0 and L == 0) or (U == 0 and R == 0) or (B == 0 and L == 0) or (B == 0 and R == 0):\n",
    "#         # kernel edge length\n",
    "#         n = 13\n",
    "#         #Creating a 13x13 kernel where x,y is the midpoint \n",
    "#         kernel_1 = PATH_1[x-(n//2):x+(n//2+1), y-(n//2):y+(n//2+1)]\n",
    "\n",
    "#         if np.count_nonzero(kernel_1) > ((n**2) // 2):\n",
    "#             break\n",
    "\n",
    "\n",
    "# print(x,y)\n",
    "\n",
    "# on the img reversed \n",
    "x,y = 332, 695\n",
    "\n",
    "# distance transform\n",
    "dist = cv2.distanceTransform(PATH_1, cv2.DIST_L2, 3)\n",
    "# Normalize the distance image for range = {0.0, 1.0}\n",
    "# so we can visualize and threshold it\n",
    "cv2.normalize(dist, dist, 0, 1.0, cv2.NORM_MINMAX)\n",
    "plt.imshow(cv2.cvtColor(dist, cv2.COLOR_GRAY2RGB))\n",
    "# how can i find perpendicularity from one px? (along on diag? - towards the direction of more whites? - if same, then look \n",
    "# at the general direction of whites?)\n",
    "# 4 diagonals possible - the quarter with the most whites wins?\n",
    "\n",
    "\n",
    "n = 13\n",
    "# #Creating a 13x13 kernel where x,y is the midpoint \n",
    "kernel_1 = PATH_1[x-(n//2):x+(n//2+1), y-(n//2):y+(n//2+1)]\n",
    "print(kernel_1)\n",
    "# # find biggest sum\n",
    "# UL = np.sum(kernel_1[:n//2, :n//2])\n",
    "# UR = np.sum(kernel_1[:n//2:, n//2+1:])\n",
    "# LL = np.sum(kernel_1[n//2+1:, :n//2])\n",
    "# LR = np.sum(kernel_1[n//2+1:, n//2+1:])\n",
    "\n",
    "#print(np.argmax(np.array([UL, UR, LL, LR])))\n",
    "\n",
    "# 4th quarter - np.diag\n",
    "\n",
    "\n",
    "\n",
    "# px distance in diagonals \n",
    "\n",
    "\n",
    "\n",
    "orig = cv2.circle(orig, (y,x), radius=4, color=(0, 0, 255), thickness=-1)\n",
    "#print(np.count_nonzero(PATH_1))\n",
    "#cv2.imshow(\"direction\", theta)\n",
    "plt.imshow(PATH_1)\n",
    "plt.imshow(orig)"
   ]
  },
  {
   "cell_type": "code",
   "execution_count": null,
   "id": "903ffdec",
   "metadata": {},
   "outputs": [],
   "source": []
  }
 ],
 "metadata": {
  "kernelspec": {
   "display_name": "Python 3 (ipykernel)",
   "language": "python",
   "name": "python3"
  },
  "language_info": {
   "codemirror_mode": {
    "name": "ipython",
    "version": 3
   },
   "file_extension": ".py",
   "mimetype": "text/x-python",
   "name": "python",
   "nbconvert_exporter": "python",
   "pygments_lexer": "ipython3",
   "version": "3.8.10"
  }
 },
 "nbformat": 4,
 "nbformat_minor": 5
}
